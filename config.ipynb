{
 "cells": [
  {
   "cell_type": "code",
   "execution_count": 1,
   "metadata": {},
   "outputs": [],
   "source": [
    "import os\n",
    "import sys\n",
    "import pathlib\n",
    "import nibabel"
   ]
  },
  {
   "cell_type": "code",
   "execution_count": 16,
   "metadata": {},
   "outputs": [],
   "source": [
    "from typing import List"
   ]
  },
  {
   "cell_type": "code",
   "execution_count": 2,
   "metadata": {},
   "outputs": [],
   "source": [
    "from anat_seg.utils.commandio.command import Command"
   ]
  },
  {
   "cell_type": "code",
   "execution_count": 8,
   "metadata": {},
   "outputs": [],
   "source": [
    "images = [\"img.nii\", \"img1.nii\", \"img2.nii\" ]"
   ]
  },
  {
   "cell_type": "code",
   "execution_count": 9,
   "metadata": {},
   "outputs": [],
   "source": [
    "from anat_seg.utils.niio import NiiFile"
   ]
  },
  {
   "cell_type": "code",
   "execution_count": 17,
   "metadata": {},
   "outputs": [],
   "source": [
    "for i,image in enumerate(images):\n",
    "    # print(i)\n",
    "    with NiiFile(src=image) as img:\n",
    "        # image: str = img.abspath()\n",
    "        images[i]: List[str] = img.abspath()"
   ]
  },
  {
   "cell_type": "code",
   "execution_count": 18,
   "metadata": {},
   "outputs": [
    {
     "data": {
      "text/plain": [
       "['/Users/adebayobraimah/Desktop/projects/anat_seg/img.nii',\n",
       " '/Users/adebayobraimah/Desktop/projects/anat_seg/img1.nii',\n",
       " '/Users/adebayobraimah/Desktop/projects/anat_seg/img2.nii']"
      ]
     },
     "execution_count": 18,
     "metadata": {},
     "output_type": "execute_result"
    }
   ],
   "source": [
    "images"
   ]
  },
  {
   "cell_type": "code",
   "execution_count": 23,
   "metadata": {},
   "outputs": [],
   "source": [
    "c = Command(f\"echo {' '.join(images)}\")"
   ]
  },
  {
   "cell_type": "code",
   "execution_count": 24,
   "metadata": {},
   "outputs": [
    {
     "data": {
      "text/plain": [
       "'echo /Users/adebayobraimah/Desktop/projects/anat_seg/img.nii /Users/adebayobraimah/Desktop/projects/anat_seg/img1.nii /Users/adebayobraimah/Desktop/projects/anat_seg/img2.nii'"
      ]
     },
     "execution_count": 24,
     "metadata": {},
     "output_type": "execute_result"
    }
   ],
   "source": [
    "c.command"
   ]
  },
  {
   "cell_type": "code",
   "execution_count": 25,
   "metadata": {},
   "outputs": [],
   "source": [
    "out=\"/Users/adebayobraimah/Desktop/projects/seg_anat/test/test.neo/seg_img\""
   ]
  },
  {
   "cell_type": "code",
   "execution_count": 26,
   "metadata": {},
   "outputs": [],
   "source": [
    "from glob import glob"
   ]
  },
  {
   "cell_type": "code",
   "execution_count": 30,
   "metadata": {},
   "outputs": [],
   "source": [
    "seg_list = glob(f\"{out}_pve_*\",recursive=False)"
   ]
  },
  {
   "cell_type": "code",
   "execution_count": 31,
   "metadata": {},
   "outputs": [
    {
     "data": {
      "text/plain": [
       "['/Users/adebayobraimah/Desktop/projects/seg_anat/test/test.neo/seg_img_pve_0.nii.gz',\n",
       " '/Users/adebayobraimah/Desktop/projects/seg_anat/test/test.neo/seg_img_pve_1.nii.gz',\n",
       " '/Users/adebayobraimah/Desktop/projects/seg_anat/test/test.neo/seg_img_pve_2.nii.gz',\n",
       " '/Users/adebayobraimah/Desktop/projects/seg_anat/test/test.neo/seg_img_pve_3.nii.gz']"
      ]
     },
     "execution_count": 31,
     "metadata": {},
     "output_type": "execute_result"
    }
   ],
   "source": [
    "seg_list.sort()\n",
    "seg_list"
   ]
  },
  {
   "cell_type": "code",
   "execution_count": null,
   "metadata": {},
   "outputs": [],
   "source": []
  }
 ],
 "metadata": {
  "interpreter": {
   "hash": "f056cfbfe9e5edd4c3e629b883f7cbd36443bca07d5a11784bb0ec820e1c4595"
  },
  "kernelspec": {
   "display_name": "Python 3.9.12 64-bit ('env')",
   "language": "python",
   "name": "python3"
  },
  "language_info": {
   "codemirror_mode": {
    "name": "ipython",
    "version": 3
   },
   "file_extension": ".py",
   "mimetype": "text/x-python",
   "name": "python",
   "nbconvert_exporter": "python",
   "pygments_lexer": "ipython3",
   "version": "3.9.12"
  },
  "orig_nbformat": 4
 },
 "nbformat": 4,
 "nbformat_minor": 2
}
